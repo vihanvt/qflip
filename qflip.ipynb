{
 "cells": [
  {
   "cell_type": "code",
   "execution_count": 2,
   "metadata": {},
   "outputs": [
    {
     "name": "stdout",
     "output_type": "stream",
     "text": [
      "Requirement already satisfied: qiskit in c:\\users\\vihan\\desktop\\quantum\\venv\\lib\\site-packages (1.2.4)\n",
      "Requirement already satisfied: typing-extensions in c:\\users\\vihan\\desktop\\quantum\\venv\\lib\\site-packages (from qiskit) (4.12.2)\n",
      "Requirement already satisfied: python-dateutil>=2.8.0 in c:\\users\\vihan\\desktop\\quantum\\venv\\lib\\site-packages (from qiskit) (2.9.0.post0)\n",
      "Requirement already satisfied: symengine<0.14,>=0.11 in c:\\users\\vihan\\desktop\\quantum\\venv\\lib\\site-packages (from qiskit) (0.13.0)\n",
      "Requirement already satisfied: stevedore>=3.0.0 in c:\\users\\vihan\\desktop\\quantum\\venv\\lib\\site-packages (from qiskit) (5.3.0)\n",
      "Requirement already satisfied: scipy>=1.5 in c:\\users\\vihan\\desktop\\quantum\\venv\\lib\\site-packages (from qiskit) (1.14.1)\n",
      "Requirement already satisfied: rustworkx>=0.15.0 in c:\\users\\vihan\\desktop\\quantum\\venv\\lib\\site-packages (from qiskit) (0.15.1)\n",
      "Requirement already satisfied: numpy<3,>=1.17 in c:\\users\\vihan\\desktop\\quantum\\venv\\lib\\site-packages (from qiskit) (2.1.2)\n",
      "Requirement already satisfied: dill>=0.3 in c:\\users\\vihan\\desktop\\quantum\\venv\\lib\\site-packages (from qiskit) (0.3.9)\n",
      "Requirement already satisfied: sympy>=1.3 in c:\\users\\vihan\\desktop\\quantum\\venv\\lib\\site-packages (from qiskit) (1.13.3)\n",
      "Requirement already satisfied: six>=1.5 in c:\\users\\vihan\\desktop\\quantum\\venv\\lib\\site-packages (from python-dateutil>=2.8.0->qiskit) (1.16.0)\n",
      "Requirement already satisfied: pbr>=2.0.0 in c:\\users\\vihan\\desktop\\quantum\\venv\\lib\\site-packages (from stevedore>=3.0.0->qiskit) (6.1.0)\n",
      "Requirement already satisfied: mpmath<1.4,>=1.1.0 in c:\\users\\vihan\\desktop\\quantum\\venv\\lib\\site-packages (from sympy>=1.3->qiskit) (1.3.0)\n"
     ]
    },
    {
     "name": "stderr",
     "output_type": "stream",
     "text": [
      "\n",
      "[notice] A new release of pip is available: 23.0.1 -> 25.0.1\n",
      "[notice] To update, run: python.exe -m pip install --upgrade pip\n"
     ]
    },
    {
     "name": "stdout",
     "output_type": "stream",
     "text": [
      "Requirement already satisfied: qiskit-aer in c:\\users\\vihan\\desktop\\quantum\\venv\\lib\\site-packages (0.15.1)\n",
      "Requirement already satisfied: numpy>=1.16.3 in c:\\users\\vihan\\desktop\\quantum\\venv\\lib\\site-packages (from qiskit-aer) (2.1.2)\n",
      "Requirement already satisfied: qiskit>=1.1.0 in c:\\users\\vihan\\desktop\\quantum\\venv\\lib\\site-packages (from qiskit-aer) (1.2.4)\n",
      "Requirement already satisfied: scipy>=1.0 in c:\\users\\vihan\\desktop\\quantum\\venv\\lib\\site-packages (from qiskit-aer) (1.14.1)\n",
      "Requirement already satisfied: psutil>=5 in c:\\users\\vihan\\desktop\\quantum\\venv\\lib\\site-packages (from qiskit-aer) (6.1.0)\n",
      "Requirement already satisfied: symengine<0.14,>=0.11 in c:\\users\\vihan\\desktop\\quantum\\venv\\lib\\site-packages (from qiskit>=1.1.0->qiskit-aer) (0.13.0)\n",
      "Requirement already satisfied: dill>=0.3 in c:\\users\\vihan\\desktop\\quantum\\venv\\lib\\site-packages (from qiskit>=1.1.0->qiskit-aer) (0.3.9)\n",
      "Requirement already satisfied: rustworkx>=0.15.0 in c:\\users\\vihan\\desktop\\quantum\\venv\\lib\\site-packages (from qiskit>=1.1.0->qiskit-aer) (0.15.1)\n",
      "Requirement already satisfied: stevedore>=3.0.0 in c:\\users\\vihan\\desktop\\quantum\\venv\\lib\\site-packages (from qiskit>=1.1.0->qiskit-aer) (5.3.0)\n",
      "Requirement already satisfied: typing-extensions in c:\\users\\vihan\\desktop\\quantum\\venv\\lib\\site-packages (from qiskit>=1.1.0->qiskit-aer) (4.12.2)\n",
      "Requirement already satisfied: python-dateutil>=2.8.0 in c:\\users\\vihan\\desktop\\quantum\\venv\\lib\\site-packages (from qiskit>=1.1.0->qiskit-aer) (2.9.0.post0)\n",
      "Requirement already satisfied: sympy>=1.3 in c:\\users\\vihan\\desktop\\quantum\\venv\\lib\\site-packages (from qiskit>=1.1.0->qiskit-aer) (1.13.3)\n",
      "Requirement already satisfied: six>=1.5 in c:\\users\\vihan\\desktop\\quantum\\venv\\lib\\site-packages (from python-dateutil>=2.8.0->qiskit>=1.1.0->qiskit-aer) (1.16.0)\n",
      "Requirement already satisfied: pbr>=2.0.0 in c:\\users\\vihan\\desktop\\quantum\\venv\\lib\\site-packages (from stevedore>=3.0.0->qiskit>=1.1.0->qiskit-aer) (6.1.0)\n",
      "Requirement already satisfied: mpmath<1.4,>=1.1.0 in c:\\users\\vihan\\desktop\\quantum\\venv\\lib\\site-packages (from sympy>=1.3->qiskit>=1.1.0->qiskit-aer) (1.3.0)\n"
     ]
    },
    {
     "name": "stderr",
     "output_type": "stream",
     "text": [
      "\n",
      "[notice] A new release of pip is available: 23.0.1 -> 25.0.1\n",
      "[notice] To update, run: python.exe -m pip install --upgrade pip\n",
      "ERROR: Invalid requirement: \"'qiskit[visualization]'\"\n",
      "\n",
      "[notice] A new release of pip is available: 23.0.1 -> 25.0.1\n",
      "[notice] To update, run: python.exe -m pip install --upgrade pip\n"
     ]
    }
   ],
   "source": [
    "!pip install qiskit\n",
    "!pip install qiskit-aer\n",
    "!pip install 'qiskit[visualization]'"
   ]
  },
  {
   "cell_type": "code",
   "execution_count": null,
   "metadata": {},
   "outputs": [
    {
     "name": "stdout",
     "output_type": "stream",
     "text": [
      "Heads\n"
     ]
    }
   ],
   "source": [
    "from qiskit_aer import Aer\n",
    "from qiskit import *\n",
    "qc=QuantumCircuit(1,1)#qbits,cbits\n",
    "qc.h(0)\n",
    "qc.measure(0,0)\n",
    "simulator=Aer.get_backend(\"qasm_simulator\")\n",
    "result=simulator.run(qc,shots=1024).result()\n",
    "counter=result.get_counts()\n",
    "if counter.get('0',0)>counter.get('1',0):\n",
    "  print(\"Tails\")\n",
    "else:\n",
    "  print(\"Heads\")"
   ]
  }
 ],
 "metadata": {
  "kernelspec": {
   "display_name": "venv",
   "language": "python",
   "name": "python3"
  },
  "language_info": {
   "codemirror_mode": {
    "name": "ipython",
    "version": 3
   },
   "file_extension": ".py",
   "mimetype": "text/x-python",
   "name": "python",
   "nbconvert_exporter": "python",
   "pygments_lexer": "ipython3",
   "version": "3.10.11"
  }
 },
 "nbformat": 4,
 "nbformat_minor": 2
}
